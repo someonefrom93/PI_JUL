{
 "cells": [
  {
   "cell_type": "markdown",
   "metadata": {},
   "source": [
    "# EDA"
   ]
  },
  {
   "cell_type": "code",
   "execution_count": 1,
   "metadata": {},
   "outputs": [
    {
     "name": "stdout",
     "output_type": "stream",
     "text": [
      "2384\n",
      "11796\n",
      "Memory used: 244.09 MB\n",
      "Memory used: 244.09 MB\n",
      "Memory used: 244.18 MB\n",
      "Memory used: 244.18 MB\n"
     ]
    },
    {
     "name": "stderr",
     "output_type": "stream",
     "text": [
      "[NbConvertApp] Converting notebook etl.ipynb to script\n",
      "[NbConvertApp] Writing 25688 bytes to etl.py\n"
     ]
    }
   ],
   "source": [
    "import pandas as pd\n",
    "import numpy as np\n",
    "from etl import safe_literal_eval, dtype_checker, movies_df"
   ]
  },
  {
   "cell_type": "code",
   "execution_count": 2,
   "metadata": {},
   "outputs": [],
   "source": [
    "movies = pd.read_parquet(\"parquet_data/movies_parquet.parquet\")\n",
    "credits = pd.read_parquet(\"parquet_data/credits_parquet.parquet\")"
   ]
  },
  {
   "cell_type": "markdown",
   "metadata": {},
   "source": [
    "### Let's recover the fields vote_count and voten average from the CSV movie file."
   ]
  },
  {
   "cell_type": "code",
   "execution_count": 3,
   "metadata": {},
   "outputs": [
    {
     "name": "stderr",
     "output_type": "stream",
     "text": [
      "C:\\Users\\jdieg\\AppData\\Local\\Temp\\ipykernel_21320\\3445815435.py:1: DtypeWarning: Columns (10) have mixed types. Specify dtype option on import or set low_memory=False.\n",
      "  movies_csv = pd.read_csv(\"data/movies_dataset.csv\")\n"
     ]
    }
   ],
   "source": [
    "movies_csv = pd.read_csv(\"data/movies_dataset.csv\")"
   ]
  },
  {
   "cell_type": "code",
   "execution_count": 4,
   "metadata": {},
   "outputs": [],
   "source": [
    "movies_df = movies_df.merge(movies_csv[[\"id\",\"vote_count\", \"vote_average\"]], on=\"id\", how=\"left\")"
   ]
  },
  {
   "cell_type": "markdown",
   "metadata": {},
   "source": [
    "### Missing Data"
   ]
  },
  {
   "cell_type": "code",
   "execution_count": 5,
   "metadata": {},
   "outputs": [
    {
     "data": {
      "text/plain": [
       "collection_id           40944\n",
       "budget                      0\n",
       "id                          0\n",
       "original_language          11\n",
       "production_countries        0\n",
       "release_date                0\n",
       "revenue                     0\n",
       "runtime                   246\n",
       "spoken_languages            0\n",
       "title                       0\n",
       "release_year                0\n",
       "return_on_investment        0\n",
       "vote_count                  0\n",
       "vote_average                0\n",
       "dtype: int64"
      ]
     },
     "execution_count": 5,
     "metadata": {},
     "output_type": "execute_result"
    }
   ],
   "source": [
    "movies_df.isna().sum()"
   ]
  },
  {
   "cell_type": "markdown",
   "metadata": {},
   "source": [
    "Having a look at original language field"
   ]
  },
  {
   "cell_type": "code",
   "execution_count": 6,
   "metadata": {},
   "outputs": [
    {
     "data": {
      "text/html": [
       "<div>\n",
       "<style scoped>\n",
       "    .dataframe tbody tr th:only-of-type {\n",
       "        vertical-align: middle;\n",
       "    }\n",
       "\n",
       "    .dataframe tbody tr th {\n",
       "        vertical-align: top;\n",
       "    }\n",
       "\n",
       "    .dataframe thead th {\n",
       "        text-align: right;\n",
       "    }\n",
       "</style>\n",
       "<table border=\"1\" class=\"dataframe\">\n",
       "  <thead>\n",
       "    <tr style=\"text-align: right;\">\n",
       "      <th></th>\n",
       "      <th>collection_id</th>\n",
       "      <th>budget</th>\n",
       "      <th>id</th>\n",
       "      <th>original_language</th>\n",
       "      <th>production_countries</th>\n",
       "      <th>release_date</th>\n",
       "      <th>revenue</th>\n",
       "      <th>runtime</th>\n",
       "      <th>spoken_languages</th>\n",
       "      <th>title</th>\n",
       "      <th>release_year</th>\n",
       "      <th>return_on_investment</th>\n",
       "      <th>vote_count</th>\n",
       "      <th>vote_average</th>\n",
       "    </tr>\n",
       "  </thead>\n",
       "  <tbody>\n",
       "    <tr>\n",
       "      <th>19595</th>\n",
       "      <td>NaN</td>\n",
       "      <td>0.0</td>\n",
       "      <td>283101</td>\n",
       "      <td>None</td>\n",
       "      <td>[{'iso_3166_1': 'AT', 'name': 'Austria'}, {'is...</td>\n",
       "      <td>2004-10-11</td>\n",
       "      <td>0.0</td>\n",
       "      <td>95.0</td>\n",
       "      <td>[{'iso_639_1': 'de', 'name': 'Deutsch'}, {'iso...</td>\n",
       "      <td>Shadowing the Third Man</td>\n",
       "      <td>2004</td>\n",
       "      <td>0.0</td>\n",
       "      <td>0.0</td>\n",
       "      <td>0.0</td>\n",
       "    </tr>\n",
       "    <tr>\n",
       "      <th>21621</th>\n",
       "      <td>NaN</td>\n",
       "      <td>0.0</td>\n",
       "      <td>103902</td>\n",
       "      <td>None</td>\n",
       "      <td>[{'iso_3166_1': 'AU', 'name': 'Australia'}]</td>\n",
       "      <td>2007-08-04</td>\n",
       "      <td>0.0</td>\n",
       "      <td>94.0</td>\n",
       "      <td>[{'iso_639_1': 'en', 'name': 'English'}]</td>\n",
       "      <td>Unfinished Sky</td>\n",
       "      <td>2007</td>\n",
       "      <td>0.0</td>\n",
       "      <td>8.0</td>\n",
       "      <td>6.4</td>\n",
       "    </tr>\n",
       "    <tr>\n",
       "      <th>22849</th>\n",
       "      <td>NaN</td>\n",
       "      <td>0.0</td>\n",
       "      <td>359195</td>\n",
       "      <td>None</td>\n",
       "      <td>[{'iso_3166_1': 'US', 'name': 'United States o...</td>\n",
       "      <td>1960-03-31</td>\n",
       "      <td>0.0</td>\n",
       "      <td>69.0</td>\n",
       "      <td>[{'iso_639_1': 'en', 'name': 'English'}]</td>\n",
       "      <td>13 Fighting Men</td>\n",
       "      <td>1960</td>\n",
       "      <td>0.0</td>\n",
       "      <td>0.0</td>\n",
       "      <td>0.0</td>\n",
       "    </tr>\n",
       "    <tr>\n",
       "      <th>32155</th>\n",
       "      <td>NaN</td>\n",
       "      <td>0.0</td>\n",
       "      <td>147050</td>\n",
       "      <td>None</td>\n",
       "      <td>[{'iso_3166_1': 'US', 'name': 'United States o...</td>\n",
       "      <td>1929-10-31</td>\n",
       "      <td>0.0</td>\n",
       "      <td>8.0</td>\n",
       "      <td>[{'iso_639_1': 'en', 'name': 'English'}]</td>\n",
       "      <td>Lambchops</td>\n",
       "      <td>1929</td>\n",
       "      <td>0.0</td>\n",
       "      <td>2.0</td>\n",
       "      <td>6.5</td>\n",
       "    </tr>\n",
       "    <tr>\n",
       "      <th>37410</th>\n",
       "      <td>NaN</td>\n",
       "      <td>0.0</td>\n",
       "      <td>257095</td>\n",
       "      <td>None</td>\n",
       "      <td>[{'iso_3166_1': 'CZ', 'name': 'Czech Republic'}]</td>\n",
       "      <td>1950-01-26</td>\n",
       "      <td>0.0</td>\n",
       "      <td>87.0</td>\n",
       "      <td>[{'iso_639_1': 'cs', 'name': 'Český'}]</td>\n",
       "      <td>Prince Bayaya</td>\n",
       "      <td>1950</td>\n",
       "      <td>0.0</td>\n",
       "      <td>1.0</td>\n",
       "      <td>5.0</td>\n",
       "    </tr>\n",
       "  </tbody>\n",
       "</table>\n",
       "</div>"
      ],
      "text/plain": [
       "      collection_id  budget      id original_language  \\\n",
       "19595           NaN     0.0  283101              None   \n",
       "21621           NaN     0.0  103902              None   \n",
       "22849           NaN     0.0  359195              None   \n",
       "32155           NaN     0.0  147050              None   \n",
       "37410           NaN     0.0  257095              None   \n",
       "\n",
       "                                    production_countries release_date  \\\n",
       "19595  [{'iso_3166_1': 'AT', 'name': 'Austria'}, {'is...   2004-10-11   \n",
       "21621        [{'iso_3166_1': 'AU', 'name': 'Australia'}]   2007-08-04   \n",
       "22849  [{'iso_3166_1': 'US', 'name': 'United States o...   1960-03-31   \n",
       "32155  [{'iso_3166_1': 'US', 'name': 'United States o...   1929-10-31   \n",
       "37410   [{'iso_3166_1': 'CZ', 'name': 'Czech Republic'}]   1950-01-26   \n",
       "\n",
       "       revenue  runtime                                   spoken_languages  \\\n",
       "19595      0.0     95.0  [{'iso_639_1': 'de', 'name': 'Deutsch'}, {'iso...   \n",
       "21621      0.0     94.0           [{'iso_639_1': 'en', 'name': 'English'}]   \n",
       "22849      0.0     69.0           [{'iso_639_1': 'en', 'name': 'English'}]   \n",
       "32155      0.0      8.0           [{'iso_639_1': 'en', 'name': 'English'}]   \n",
       "37410      0.0     87.0             [{'iso_639_1': 'cs', 'name': 'Český'}]   \n",
       "\n",
       "                         title  release_year  return_on_investment  \\\n",
       "19595  Shadowing the Third Man          2004                   0.0   \n",
       "21621           Unfinished Sky          2007                   0.0   \n",
       "22849          13 Fighting Men          1960                   0.0   \n",
       "32155                Lambchops          1929                   0.0   \n",
       "37410            Prince Bayaya          1950                   0.0   \n",
       "\n",
       "       vote_count  vote_average  \n",
       "19595         0.0           0.0  \n",
       "21621         8.0           6.4  \n",
       "22849         0.0           0.0  \n",
       "32155         2.0           6.5  \n",
       "37410         1.0           5.0  "
      ]
     },
     "execution_count": 6,
     "metadata": {},
     "output_type": "execute_result"
    }
   ],
   "source": [
    "movies_df[movies_df[\"original_language\"].isna()].head()"
   ]
  },
  {
   "cell_type": "markdown",
   "metadata": {},
   "source": [
    "And those rows with null values in field original_language also has missing values on other field sudh as vote_count, vote_average, etc.. having 3 features missing is a significant for our EDa.. so that the more suitable approach is drop them"
   ]
  },
  {
   "cell_type": "code",
   "execution_count": 7,
   "metadata": {},
   "outputs": [],
   "source": [
    "movies_df.dropna(subset=[\"original_language\"], inplace=True)"
   ]
  },
  {
   "cell_type": "markdown",
   "metadata": {},
   "source": [
    "### runtime feature missing values"
   ]
  },
  {
   "cell_type": "code",
   "execution_count": 8,
   "metadata": {},
   "outputs": [
    {
     "data": {
      "text/html": [
       "<div>\n",
       "<style scoped>\n",
       "    .dataframe tbody tr th:only-of-type {\n",
       "        vertical-align: middle;\n",
       "    }\n",
       "\n",
       "    .dataframe tbody tr th {\n",
       "        vertical-align: top;\n",
       "    }\n",
       "\n",
       "    .dataframe thead th {\n",
       "        text-align: right;\n",
       "    }\n",
       "</style>\n",
       "<table border=\"1\" class=\"dataframe\">\n",
       "  <thead>\n",
       "    <tr style=\"text-align: right;\">\n",
       "      <th></th>\n",
       "      <th>collection_id</th>\n",
       "      <th>budget</th>\n",
       "      <th>id</th>\n",
       "      <th>original_language</th>\n",
       "      <th>production_countries</th>\n",
       "      <th>release_date</th>\n",
       "      <th>revenue</th>\n",
       "      <th>runtime</th>\n",
       "      <th>spoken_languages</th>\n",
       "      <th>title</th>\n",
       "      <th>release_year</th>\n",
       "      <th>return_on_investment</th>\n",
       "      <th>vote_count</th>\n",
       "      <th>vote_average</th>\n",
       "    </tr>\n",
       "  </thead>\n",
       "  <tbody>\n",
       "    <tr>\n",
       "      <th>634</th>\n",
       "      <td>NaN</td>\n",
       "      <td>0.0</td>\n",
       "      <td>287305</td>\n",
       "      <td>de</td>\n",
       "      <td>[{'iso_3166_1': 'DE', 'name': 'Germany'}]</td>\n",
       "      <td>1996-03-21</td>\n",
       "      <td>0.0</td>\n",
       "      <td>NaN</td>\n",
       "      <td>[{'iso_639_1': 'Unknown', 'name': 'Unknown'}]</td>\n",
       "      <td>Peanuts – Die Bank zahlt alles</td>\n",
       "      <td>1996</td>\n",
       "      <td>0.0</td>\n",
       "      <td>1.0</td>\n",
       "      <td>4.0</td>\n",
       "    </tr>\n",
       "    <tr>\n",
       "      <th>635</th>\n",
       "      <td>NaN</td>\n",
       "      <td>0.0</td>\n",
       "      <td>339428</td>\n",
       "      <td>de</td>\n",
       "      <td>[{'iso_3166_1': 'DE', 'name': 'Germany'}]</td>\n",
       "      <td>1996-03-14</td>\n",
       "      <td>65335.0</td>\n",
       "      <td>NaN</td>\n",
       "      <td>[{'iso_639_1': 'de', 'name': 'Deutsch'}]</td>\n",
       "      <td>Happy Weekend</td>\n",
       "      <td>1996</td>\n",
       "      <td>0.0</td>\n",
       "      <td>0.0</td>\n",
       "      <td>0.0</td>\n",
       "    </tr>\n",
       "    <tr>\n",
       "      <th>644</th>\n",
       "      <td>NaN</td>\n",
       "      <td>0.0</td>\n",
       "      <td>278978</td>\n",
       "      <td>de</td>\n",
       "      <td>[{'iso_3166_1': 'DE', 'name': 'Germany'}]</td>\n",
       "      <td>1996-02-29</td>\n",
       "      <td>0.0</td>\n",
       "      <td>NaN</td>\n",
       "      <td>[{'iso_639_1': 'de', 'name': 'Deutsch'}]</td>\n",
       "      <td>Und keiner weint mir nach</td>\n",
       "      <td>1996</td>\n",
       "      <td>0.0</td>\n",
       "      <td>0.0</td>\n",
       "      <td>0.0</td>\n",
       "    </tr>\n",
       "    <tr>\n",
       "      <th>801</th>\n",
       "      <td>NaN</td>\n",
       "      <td>0.0</td>\n",
       "      <td>282919</td>\n",
       "      <td>de</td>\n",
       "      <td>[{'iso_3166_1': 'DE', 'name': 'Germany'}]</td>\n",
       "      <td>1996-06-20</td>\n",
       "      <td>0.0</td>\n",
       "      <td>NaN</td>\n",
       "      <td>[{'iso_639_1': 'Unknown', 'name': 'Unknown'}]</td>\n",
       "      <td>Diebinnen</td>\n",
       "      <td>1996</td>\n",
       "      <td>0.0</td>\n",
       "      <td>1.0</td>\n",
       "      <td>4.0</td>\n",
       "    </tr>\n",
       "    <tr>\n",
       "      <th>863</th>\n",
       "      <td>NaN</td>\n",
       "      <td>0.0</td>\n",
       "      <td>253632</td>\n",
       "      <td>fr</td>\n",
       "      <td>[{'iso_3166_1': 'Unknown', 'name': 'Unknown'}]</td>\n",
       "      <td>1988-10-08</td>\n",
       "      <td>0.0</td>\n",
       "      <td>NaN</td>\n",
       "      <td>[{'iso_639_1': 'Unknown', 'name': 'Unknown'}]</td>\n",
       "      <td>Baton Rouge</td>\n",
       "      <td>1988</td>\n",
       "      <td>0.0</td>\n",
       "      <td>0.0</td>\n",
       "      <td>0.0</td>\n",
       "    </tr>\n",
       "  </tbody>\n",
       "</table>\n",
       "</div>"
      ],
      "text/plain": [
       "    collection_id  budget      id original_language  \\\n",
       "634           NaN     0.0  287305                de   \n",
       "635           NaN     0.0  339428                de   \n",
       "644           NaN     0.0  278978                de   \n",
       "801           NaN     0.0  282919                de   \n",
       "863           NaN     0.0  253632                fr   \n",
       "\n",
       "                               production_countries release_date  revenue  \\\n",
       "634       [{'iso_3166_1': 'DE', 'name': 'Germany'}]   1996-03-21      0.0   \n",
       "635       [{'iso_3166_1': 'DE', 'name': 'Germany'}]   1996-03-14  65335.0   \n",
       "644       [{'iso_3166_1': 'DE', 'name': 'Germany'}]   1996-02-29      0.0   \n",
       "801       [{'iso_3166_1': 'DE', 'name': 'Germany'}]   1996-06-20      0.0   \n",
       "863  [{'iso_3166_1': 'Unknown', 'name': 'Unknown'}]   1988-10-08      0.0   \n",
       "\n",
       "     runtime                               spoken_languages  \\\n",
       "634      NaN  [{'iso_639_1': 'Unknown', 'name': 'Unknown'}]   \n",
       "635      NaN       [{'iso_639_1': 'de', 'name': 'Deutsch'}]   \n",
       "644      NaN       [{'iso_639_1': 'de', 'name': 'Deutsch'}]   \n",
       "801      NaN  [{'iso_639_1': 'Unknown', 'name': 'Unknown'}]   \n",
       "863      NaN  [{'iso_639_1': 'Unknown', 'name': 'Unknown'}]   \n",
       "\n",
       "                              title  release_year  return_on_investment  \\\n",
       "634  Peanuts – Die Bank zahlt alles          1996                   0.0   \n",
       "635                   Happy Weekend          1996                   0.0   \n",
       "644       Und keiner weint mir nach          1996                   0.0   \n",
       "801                       Diebinnen          1996                   0.0   \n",
       "863                     Baton Rouge          1988                   0.0   \n",
       "\n",
       "     vote_count  vote_average  \n",
       "634         1.0           4.0  \n",
       "635         0.0           0.0  \n",
       "644         0.0           0.0  \n",
       "801         1.0           4.0  \n",
       "863         0.0           0.0  "
      ]
     },
     "execution_count": 8,
     "metadata": {},
     "output_type": "execute_result"
    }
   ],
   "source": [
    "movies_df[movies_df[\"runtime\"].isna()].head()"
   ]
  },
  {
   "cell_type": "markdown",
   "metadata": {},
   "source": [
    "Some features like revenue, budget, in consecuents roi (shor for return_on_investment), and some vote_count values in zero. Since this is few missing data, the more suitable approach is dropping those rows."
   ]
  },
  {
   "cell_type": "code",
   "execution_count": 9,
   "metadata": {},
   "outputs": [],
   "source": [
    "movies_df.dropna(subset=[\"runtime\"], inplace=True)"
   ]
  },
  {
   "cell_type": "code",
   "execution_count": 10,
   "metadata": {},
   "outputs": [
    {
     "data": {
      "text/plain": [
       "collection_id           40694\n",
       "budget                      0\n",
       "id                          0\n",
       "original_language           0\n",
       "production_countries        0\n",
       "release_date                0\n",
       "revenue                     0\n",
       "runtime                     0\n",
       "spoken_languages            0\n",
       "title                       0\n",
       "release_year                0\n",
       "return_on_investment        0\n",
       "vote_count                  0\n",
       "vote_average                0\n",
       "dtype: int64"
      ]
     },
     "execution_count": 10,
     "metadata": {},
     "output_type": "execute_result"
    }
   ],
   "source": [
    "movies_df.isna().sum()"
   ]
  },
  {
   "cell_type": "markdown",
   "metadata": {},
   "source": [
    "### collection_id feature\n",
    "collection_id features is an exception here since this refers to more information about certain movies that are related to other ones (there's another dataset from etl that can be imported to merge on this id). A more appropriate feature would be adding a new feture that only indicates if it bellongs to a collection."
   ]
  },
  {
   "cell_type": "code",
   "execution_count": 11,
   "metadata": {},
   "outputs": [],
   "source": [
    "movies_df[\"bellongs_to_collection\"] = ~movies_df[\"collection_id\"].isnull()"
   ]
  },
  {
   "cell_type": "code",
   "execution_count": 12,
   "metadata": {},
   "outputs": [
    {
     "data": {
      "text/plain": [
       "collection_id             40694\n",
       "budget                        0\n",
       "id                            0\n",
       "original_language             0\n",
       "production_countries          0\n",
       "release_date                  0\n",
       "revenue                       0\n",
       "runtime                       0\n",
       "spoken_languages              0\n",
       "title                         0\n",
       "release_year                  0\n",
       "return_on_investment          0\n",
       "vote_count                    0\n",
       "vote_average                  0\n",
       "bellongs_to_collection        0\n",
       "dtype: int64"
      ]
     },
     "execution_count": 12,
     "metadata": {},
     "output_type": "execute_result"
    }
   ],
   "source": [
    "movies_df.isnull().sum()"
   ]
  },
  {
   "cell_type": "markdown",
   "metadata": {},
   "source": [
    "By now, we will allow the collection_id feature for the EDA, and may be drop it latter when will be time for training the recomendation model"
   ]
  },
  {
   "cell_type": "markdown",
   "metadata": {},
   "source": [
    "# Hipothesys\n",
    "\n",
    "I would like to know how predominant the language english is in the movies. Parhaps thet would be an outlier. And there are two things about languages: the original language wich the movie was produced and the languages availability for each movie. Let's have a look at this proportions"
   ]
  },
  {
   "cell_type": "code",
   "execution_count": 13,
   "metadata": {},
   "outputs": [
    {
     "data": {
      "text/html": [
       "<div>\n",
       "<style scoped>\n",
       "    .dataframe tbody tr th:only-of-type {\n",
       "        vertical-align: middle;\n",
       "    }\n",
       "\n",
       "    .dataframe tbody tr th {\n",
       "        vertical-align: top;\n",
       "    }\n",
       "\n",
       "    .dataframe thead th {\n",
       "        text-align: right;\n",
       "    }\n",
       "</style>\n",
       "<table border=\"1\" class=\"dataframe\">\n",
       "  <thead>\n",
       "    <tr style=\"text-align: right;\">\n",
       "      <th></th>\n",
       "      <th>original_language</th>\n",
       "      <th>spoken_languages</th>\n",
       "    </tr>\n",
       "  </thead>\n",
       "  <tbody>\n",
       "    <tr>\n",
       "      <th>0</th>\n",
       "      <td>en</td>\n",
       "      <td>[{'iso_639_1': 'en', 'name': 'English'}]</td>\n",
       "    </tr>\n",
       "    <tr>\n",
       "      <th>1</th>\n",
       "      <td>en</td>\n",
       "      <td>[{'iso_639_1': 'en', 'name': 'English'}, {'iso...</td>\n",
       "    </tr>\n",
       "    <tr>\n",
       "      <th>2</th>\n",
       "      <td>en</td>\n",
       "      <td>[{'iso_639_1': 'en', 'name': 'English'}]</td>\n",
       "    </tr>\n",
       "    <tr>\n",
       "      <th>3</th>\n",
       "      <td>en</td>\n",
       "      <td>[{'iso_639_1': 'en', 'name': 'English'}]</td>\n",
       "    </tr>\n",
       "    <tr>\n",
       "      <th>4</th>\n",
       "      <td>en</td>\n",
       "      <td>[{'iso_639_1': 'en', 'name': 'English'}]</td>\n",
       "    </tr>\n",
       "    <tr>\n",
       "      <th>...</th>\n",
       "      <td>...</td>\n",
       "      <td>...</td>\n",
       "    </tr>\n",
       "    <tr>\n",
       "      <th>45433</th>\n",
       "      <td>en</td>\n",
       "      <td>[{'iso_639_1': 'en', 'name': 'English'}]</td>\n",
       "    </tr>\n",
       "    <tr>\n",
       "      <th>45434</th>\n",
       "      <td>tl</td>\n",
       "      <td>[{'iso_639_1': 'tl', 'name': ''}]</td>\n",
       "    </tr>\n",
       "    <tr>\n",
       "      <th>45435</th>\n",
       "      <td>en</td>\n",
       "      <td>[{'iso_639_1': 'en', 'name': 'English'}]</td>\n",
       "    </tr>\n",
       "    <tr>\n",
       "      <th>45436</th>\n",
       "      <td>en</td>\n",
       "      <td>[{'iso_639_1': 'Unknown', 'name': 'Unknown'}]</td>\n",
       "    </tr>\n",
       "    <tr>\n",
       "      <th>45437</th>\n",
       "      <td>en</td>\n",
       "      <td>[{'iso_639_1': 'en', 'name': 'English'}]</td>\n",
       "    </tr>\n",
       "  </tbody>\n",
       "</table>\n",
       "<p>45181 rows × 2 columns</p>\n",
       "</div>"
      ],
      "text/plain": [
       "      original_language                                   spoken_languages\n",
       "0                    en           [{'iso_639_1': 'en', 'name': 'English'}]\n",
       "1                    en  [{'iso_639_1': 'en', 'name': 'English'}, {'iso...\n",
       "2                    en           [{'iso_639_1': 'en', 'name': 'English'}]\n",
       "3                    en           [{'iso_639_1': 'en', 'name': 'English'}]\n",
       "4                    en           [{'iso_639_1': 'en', 'name': 'English'}]\n",
       "...                 ...                                                ...\n",
       "45433                en           [{'iso_639_1': 'en', 'name': 'English'}]\n",
       "45434                tl                  [{'iso_639_1': 'tl', 'name': ''}]\n",
       "45435                en           [{'iso_639_1': 'en', 'name': 'English'}]\n",
       "45436                en      [{'iso_639_1': 'Unknown', 'name': 'Unknown'}]\n",
       "45437                en           [{'iso_639_1': 'en', 'name': 'English'}]\n",
       "\n",
       "[45181 rows x 2 columns]"
      ]
     },
     "execution_count": 13,
     "metadata": {},
     "output_type": "execute_result"
    }
   ],
   "source": [
    "movies_df[[\"original_language\", \"spoken_languages\"]]"
   ]
  },
  {
   "cell_type": "code",
   "execution_count": 14,
   "metadata": {},
   "outputs": [
    {
     "data": {
      "text/plain": [
       "0                 [{'iso_639_1': 'en', 'name': 'English'}]\n",
       "1        [{'iso_639_1': 'en', 'name': 'English'}, {'iso...\n",
       "2                 [{'iso_639_1': 'en', 'name': 'English'}]\n",
       "3                 [{'iso_639_1': 'en', 'name': 'English'}]\n",
       "4                 [{'iso_639_1': 'en', 'name': 'English'}]\n",
       "                               ...                        \n",
       "45433             [{'iso_639_1': 'en', 'name': 'English'}]\n",
       "45434                    [{'iso_639_1': 'tl', 'name': ''}]\n",
       "45435             [{'iso_639_1': 'en', 'name': 'English'}]\n",
       "45436        [{'iso_639_1': 'Unknown', 'name': 'Unknown'}]\n",
       "45437             [{'iso_639_1': 'en', 'name': 'English'}]\n",
       "Name: spoken_languages, Length: 45181, dtype: object"
      ]
     },
     "execution_count": 14,
     "metadata": {},
     "output_type": "execute_result"
    }
   ],
   "source": [
    "movies_df[\"spoken_languages\"]"
   ]
  },
  {
   "cell_type": "markdown",
   "metadata": {},
   "source": [
    "This is odd, can you see in the visualization of the cell above the language \"tl\"? this iso 639 1 code does not have a name.. Let's take a look at those rows.."
   ]
  },
  {
   "cell_type": "code",
   "execution_count": 15,
   "metadata": {},
   "outputs": [],
   "source": [
    "tl_language_mask = movies_df[\"spoken_languages\"].apply(lambda languages: \"tl\" in (language[\"iso_639_1\"] for language in languages))"
   ]
  },
  {
   "cell_type": "code",
   "execution_count": 16,
   "metadata": {},
   "outputs": [
    {
     "data": {
      "text/html": [
       "<div>\n",
       "<style scoped>\n",
       "    .dataframe tbody tr th:only-of-type {\n",
       "        vertical-align: middle;\n",
       "    }\n",
       "\n",
       "    .dataframe tbody tr th {\n",
       "        vertical-align: top;\n",
       "    }\n",
       "\n",
       "    .dataframe thead th {\n",
       "        text-align: right;\n",
       "    }\n",
       "</style>\n",
       "<table border=\"1\" class=\"dataframe\">\n",
       "  <thead>\n",
       "    <tr style=\"text-align: right;\">\n",
       "      <th></th>\n",
       "      <th>collection_id</th>\n",
       "      <th>budget</th>\n",
       "      <th>id</th>\n",
       "      <th>original_language</th>\n",
       "      <th>production_countries</th>\n",
       "      <th>release_date</th>\n",
       "      <th>revenue</th>\n",
       "      <th>runtime</th>\n",
       "      <th>spoken_languages</th>\n",
       "      <th>title</th>\n",
       "      <th>release_year</th>\n",
       "      <th>return_on_investment</th>\n",
       "      <th>vote_count</th>\n",
       "      <th>vote_average</th>\n",
       "      <th>bellongs_to_collection</th>\n",
       "    </tr>\n",
       "  </thead>\n",
       "  <tbody>\n",
       "    <tr>\n",
       "      <th>42284</th>\n",
       "      <td>NaN</td>\n",
       "      <td>0.0</td>\n",
       "      <td>418378</td>\n",
       "      <td>tl</td>\n",
       "      <td>[{'iso_3166_1': 'PH', 'name': 'Philippines'}]</td>\n",
       "      <td>2016-10-27</td>\n",
       "      <td>0.0</td>\n",
       "      <td>120.0</td>\n",
       "      <td>[{'iso_639_1': 'tl', 'name': ''}]</td>\n",
       "      <td>Die Beautiful</td>\n",
       "      <td>2016</td>\n",
       "      <td>0.0</td>\n",
       "      <td>2.0</td>\n",
       "      <td>7.5</td>\n",
       "      <td>False</td>\n",
       "    </tr>\n",
       "    <tr>\n",
       "      <th>42977</th>\n",
       "      <td>NaN</td>\n",
       "      <td>0.0</td>\n",
       "      <td>392790</td>\n",
       "      <td>tl</td>\n",
       "      <td>[{'iso_3166_1': 'PH', 'name': 'Philippines'}]</td>\n",
       "      <td>2016-11-09</td>\n",
       "      <td>0.0</td>\n",
       "      <td>110.0</td>\n",
       "      <td>[{'iso_639_1': 'tl', 'name': ''}]</td>\n",
       "      <td>Ma' Rosa</td>\n",
       "      <td>2016</td>\n",
       "      <td>0.0</td>\n",
       "      <td>2.0</td>\n",
       "      <td>6.0</td>\n",
       "      <td>False</td>\n",
       "    </tr>\n",
       "    <tr>\n",
       "      <th>44176</th>\n",
       "      <td>NaN</td>\n",
       "      <td>0.0</td>\n",
       "      <td>74829</td>\n",
       "      <td>tl</td>\n",
       "      <td>[{'iso_3166_1': 'PH', 'name': 'Philippines'}]</td>\n",
       "      <td>1983-06-10</td>\n",
       "      <td>0.0</td>\n",
       "      <td>90.0</td>\n",
       "      <td>[{'iso_639_1': 'en', 'name': 'English'}, {'iso...</td>\n",
       "      <td>The Killing of Satan</td>\n",
       "      <td>1983</td>\n",
       "      <td>0.0</td>\n",
       "      <td>1.0</td>\n",
       "      <td>5.0</td>\n",
       "      <td>False</td>\n",
       "    </tr>\n",
       "    <tr>\n",
       "      <th>44574</th>\n",
       "      <td>NaN</td>\n",
       "      <td>0.0</td>\n",
       "      <td>302104</td>\n",
       "      <td>tl</td>\n",
       "      <td>[{'iso_3166_1': 'PH', 'name': 'Philippines'}]</td>\n",
       "      <td>2014-11-09</td>\n",
       "      <td>0.0</td>\n",
       "      <td>110.0</td>\n",
       "      <td>[{'iso_639_1': 'tl', 'name': ''}]</td>\n",
       "      <td>That Thing Called Tadhana</td>\n",
       "      <td>2014</td>\n",
       "      <td>0.0</td>\n",
       "      <td>4.0</td>\n",
       "      <td>6.5</td>\n",
       "      <td>False</td>\n",
       "    </tr>\n",
       "    <tr>\n",
       "      <th>45434</th>\n",
       "      <td>NaN</td>\n",
       "      <td>0.0</td>\n",
       "      <td>111109</td>\n",
       "      <td>tl</td>\n",
       "      <td>[{'iso_3166_1': 'PH', 'name': 'Philippines'}]</td>\n",
       "      <td>2011-11-17</td>\n",
       "      <td>0.0</td>\n",
       "      <td>360.0</td>\n",
       "      <td>[{'iso_639_1': 'tl', 'name': ''}]</td>\n",
       "      <td>Century of Birthing</td>\n",
       "      <td>2011</td>\n",
       "      <td>0.0</td>\n",
       "      <td>3.0</td>\n",
       "      <td>9.0</td>\n",
       "      <td>False</td>\n",
       "    </tr>\n",
       "  </tbody>\n",
       "</table>\n",
       "</div>"
      ],
      "text/plain": [
       "      collection_id  budget      id original_language  \\\n",
       "42284           NaN     0.0  418378                tl   \n",
       "42977           NaN     0.0  392790                tl   \n",
       "44176           NaN     0.0   74829                tl   \n",
       "44574           NaN     0.0  302104                tl   \n",
       "45434           NaN     0.0  111109                tl   \n",
       "\n",
       "                                production_countries release_date  revenue  \\\n",
       "42284  [{'iso_3166_1': 'PH', 'name': 'Philippines'}]   2016-10-27      0.0   \n",
       "42977  [{'iso_3166_1': 'PH', 'name': 'Philippines'}]   2016-11-09      0.0   \n",
       "44176  [{'iso_3166_1': 'PH', 'name': 'Philippines'}]   1983-06-10      0.0   \n",
       "44574  [{'iso_3166_1': 'PH', 'name': 'Philippines'}]   2014-11-09      0.0   \n",
       "45434  [{'iso_3166_1': 'PH', 'name': 'Philippines'}]   2011-11-17      0.0   \n",
       "\n",
       "       runtime                                   spoken_languages  \\\n",
       "42284    120.0                  [{'iso_639_1': 'tl', 'name': ''}]   \n",
       "42977    110.0                  [{'iso_639_1': 'tl', 'name': ''}]   \n",
       "44176     90.0  [{'iso_639_1': 'en', 'name': 'English'}, {'iso...   \n",
       "44574    110.0                  [{'iso_639_1': 'tl', 'name': ''}]   \n",
       "45434    360.0                  [{'iso_639_1': 'tl', 'name': ''}]   \n",
       "\n",
       "                           title  release_year  return_on_investment  \\\n",
       "42284              Die Beautiful          2016                   0.0   \n",
       "42977                   Ma' Rosa          2016                   0.0   \n",
       "44176       The Killing of Satan          1983                   0.0   \n",
       "44574  That Thing Called Tadhana          2014                   0.0   \n",
       "45434        Century of Birthing          2011                   0.0   \n",
       "\n",
       "       vote_count  vote_average  bellongs_to_collection  \n",
       "42284         2.0           7.5                   False  \n",
       "42977         2.0           6.0                   False  \n",
       "44176         1.0           5.0                   False  \n",
       "44574         4.0           6.5                   False  \n",
       "45434         3.0           9.0                   False  "
      ]
     },
     "execution_count": 16,
     "metadata": {},
     "output_type": "execute_result"
    }
   ],
   "source": [
    "movies_df[tl_language_mask].tail()"
   ]
  },
  {
   "cell_type": "markdown",
   "metadata": {},
   "source": [
    "and it seems that \"tl\" shows up as a original_language for any Philipine movie... remind this, in the cell above, we are filtering against spoken_language feature.\n",
    "\n",
    "And after researching at google, it seems \"tl\" iso 3166 1 code is related to the language Tagalog. A language spoken by a quarter of the population of the Philpines. Click (or tap) on [here](https://en.wikipedia.org/wiki/Tagalog_language) for further information. Let's fill this data."
   ]
  },
  {
   "cell_type": "code",
   "execution_count": 17,
   "metadata": {},
   "outputs": [
    {
     "data": {
      "text/plain": [
       "297      [{'iso_639_1': 'tl', 'name': 'Tagolog'}, {'iso...\n",
       "772               [{'iso_639_1': 'tl', 'name': 'Tagolog'}]\n",
       "4940     [{'iso_639_1': 'en', 'name': 'English'}, {'iso...\n",
       "6690     [{'iso_639_1': 'en', 'name': 'English'}, {'iso...\n",
       "8518     [{'iso_639_1': 'ja', 'name': '日本語'}, {'iso_639...\n",
       "8968     [{'iso_639_1': 'cn', 'name': '广州话 / 廣州話'}, {'i...\n",
       "9551     [{'iso_639_1': 'en', 'name': 'English'}, {'iso...\n",
       "9720     [{'iso_639_1': 'en', 'name': 'English'}, {'iso...\n",
       "9924     [{'iso_639_1': 'en', 'name': 'English'}, {'iso...\n",
       "13649    [{'iso_639_1': 'en', 'name': 'English'}, {'iso...\n",
       "14222             [{'iso_639_1': 'tl', 'name': 'Tagolog'}]\n",
       "16046    [{'iso_639_1': 'cn', 'name': '广州话 / 廣州話'}, {'i...\n",
       "16275             [{'iso_639_1': 'tl', 'name': 'Tagolog'}]\n",
       "17043             [{'iso_639_1': 'tl', 'name': 'Tagolog'}]\n",
       "18517             [{'iso_639_1': 'tl', 'name': 'Tagolog'}]\n",
       "18933             [{'iso_639_1': 'tl', 'name': 'Tagolog'}]\n",
       "19332             [{'iso_639_1': 'tl', 'name': 'Tagolog'}]\n",
       "19417             [{'iso_639_1': 'tl', 'name': 'Tagolog'}]\n",
       "21109             [{'iso_639_1': 'tl', 'name': 'Tagolog'}]\n",
       "21510             [{'iso_639_1': 'tl', 'name': 'Tagolog'}]\n",
       "21793    [{'iso_639_1': 'en', 'name': 'English'}, {'iso...\n",
       "22740    [{'iso_639_1': 'en', 'name': 'English'}, {'iso...\n",
       "23189             [{'iso_639_1': 'tl', 'name': 'Tagolog'}]\n",
       "23197             [{'iso_639_1': 'tl', 'name': 'Tagolog'}]\n",
       "23207             [{'iso_639_1': 'tl', 'name': 'Tagolog'}]\n",
       "27070    [{'iso_639_1': 'en', 'name': 'English'}, {'iso...\n",
       "27727             [{'iso_639_1': 'tl', 'name': 'Tagolog'}]\n",
       "28454    [{'iso_639_1': 'en', 'name': 'English'}, {'iso...\n",
       "28631    [{'iso_639_1': 'en', 'name': 'English'}, {'iso...\n",
       "28637             [{'iso_639_1': 'tl', 'name': 'Tagolog'}]\n",
       "28638             [{'iso_639_1': 'tl', 'name': 'Tagolog'}]\n",
       "28666    [{'iso_639_1': 'zh', 'name': '普通话'}, {'iso_639...\n",
       "29576    [{'iso_639_1': 'en', 'name': 'English'}, {'iso...\n",
       "30342    [{'iso_639_1': 'en', 'name': 'English'}, {'iso...\n",
       "32387    [{'iso_639_1': 'ja', 'name': '日本語'}, {'iso_639...\n",
       "32557    [{'iso_639_1': 'en', 'name': 'English'}, {'iso...\n",
       "33079    [{'iso_639_1': 'es', 'name': 'Español'}, {'iso...\n",
       "33118             [{'iso_639_1': 'tl', 'name': 'Tagolog'}]\n",
       "35375    [{'iso_639_1': 'cn', 'name': '广州话 / 廣州話'}, {'i...\n",
       "35499    [{'iso_639_1': 'tl', 'name': 'Tagolog'}, {'iso...\n",
       "35562             [{'iso_639_1': 'tl', 'name': 'Tagolog'}]\n",
       "35565    [{'iso_639_1': 'en', 'name': 'English'}, {'iso...\n",
       "36709             [{'iso_639_1': 'tl', 'name': 'Tagolog'}]\n",
       "36807             [{'iso_639_1': 'tl', 'name': 'Tagolog'}]\n",
       "38002             [{'iso_639_1': 'tl', 'name': 'Tagolog'}]\n",
       "38614             [{'iso_639_1': 'tl', 'name': 'Tagolog'}]\n",
       "38851    [{'iso_639_1': 'en', 'name': 'English'}, {'iso...\n",
       "41500             [{'iso_639_1': 'tl', 'name': 'Tagolog'}]\n",
       "41501             [{'iso_639_1': 'tl', 'name': 'Tagolog'}]\n",
       "41695    [{'iso_639_1': 'tl', 'name': 'Tagolog'}, {'iso...\n",
       "41890             [{'iso_639_1': 'tl', 'name': 'Tagolog'}]\n",
       "41891             [{'iso_639_1': 'tl', 'name': 'Tagolog'}]\n",
       "41892             [{'iso_639_1': 'tl', 'name': 'Tagolog'}]\n",
       "42284             [{'iso_639_1': 'tl', 'name': 'Tagolog'}]\n",
       "42977             [{'iso_639_1': 'tl', 'name': 'Tagolog'}]\n",
       "44176    [{'iso_639_1': 'en', 'name': 'English'}, {'iso...\n",
       "44574             [{'iso_639_1': 'tl', 'name': 'Tagolog'}]\n",
       "45434             [{'iso_639_1': 'tl', 'name': 'Tagolog'}]\n",
       "Name: spoken_languages, dtype: object"
      ]
     },
     "execution_count": 17,
     "metadata": {},
     "output_type": "execute_result"
    }
   ],
   "source": [
    "(movies_df.loc[tl_language_mask, \"spoken_languages\"]\n",
    " .apply(lambda languages: [\n",
    "     {\"iso_639_1\": language[\"iso_639_1\"], \"name\" : \"Tagolog\" if language[\"iso_639_1\"] == \"tl\" else language[\"name\"]} \n",
    "     for language in languages]))"
   ]
  },
  {
   "cell_type": "code",
   "execution_count": 19,
   "metadata": {},
   "outputs": [],
   "source": [
    "movies_df.loc[tl_language_mask,\"spoken_languages\"] =  (movies_df.loc[tl_language_mask, \"spoken_languages\"]\n",
    "                                    .apply(lambda languages: [\n",
    "                                        {\"iso_639_1\": language[\"iso_639_1\"], \"name\" : \"Tagolog\" if language[\"iso_639_1\"] == \"tl\" else language[\"name\"]} \n",
    "                                        for language in languages]))"
   ]
  },
  {
   "cell_type": "code",
   "execution_count": 31,
   "metadata": {},
   "outputs": [
    {
     "data": {
      "text/html": [
       "<div>\n",
       "<style scoped>\n",
       "    .dataframe tbody tr th:only-of-type {\n",
       "        vertical-align: middle;\n",
       "    }\n",
       "\n",
       "    .dataframe tbody tr th {\n",
       "        vertical-align: top;\n",
       "    }\n",
       "\n",
       "    .dataframe thead th {\n",
       "        text-align: right;\n",
       "    }\n",
       "</style>\n",
       "<table border=\"1\" class=\"dataframe\">\n",
       "  <thead>\n",
       "    <tr style=\"text-align: right;\">\n",
       "      <th></th>\n",
       "      <th>collection_id</th>\n",
       "      <th>budget</th>\n",
       "      <th>id</th>\n",
       "      <th>original_language</th>\n",
       "      <th>production_countries</th>\n",
       "      <th>release_date</th>\n",
       "      <th>revenue</th>\n",
       "      <th>runtime</th>\n",
       "      <th>spoken_languages</th>\n",
       "      <th>title</th>\n",
       "      <th>release_year</th>\n",
       "      <th>return_on_investment</th>\n",
       "      <th>vote_count</th>\n",
       "      <th>vote_average</th>\n",
       "      <th>bellongs_to_collection</th>\n",
       "    </tr>\n",
       "  </thead>\n",
       "  <tbody>\n",
       "    <tr>\n",
       "      <th>297</th>\n",
       "      <td>NaN</td>\n",
       "      <td>0.0</td>\n",
       "      <td>30304</td>\n",
       "      <td>en</td>\n",
       "      <td>[{'iso_3166_1': 'JP', 'name': 'Japan'}, {'iso_...</td>\n",
       "      <td>1995-05-05</td>\n",
       "      <td>0.0</td>\n",
       "      <td>94.0</td>\n",
       "      <td>[{'iso_639_1': 'tl', 'name': 'Tagolog'}, {'iso...</td>\n",
       "      <td>Picture Bride</td>\n",
       "      <td>1995</td>\n",
       "      <td>0.000000</td>\n",
       "      <td>5.0</td>\n",
       "      <td>7.4</td>\n",
       "      <td>False</td>\n",
       "    </tr>\n",
       "    <tr>\n",
       "      <th>772</th>\n",
       "      <td>NaN</td>\n",
       "      <td>0.0</td>\n",
       "      <td>183955</td>\n",
       "      <td>en</td>\n",
       "      <td>[{'iso_3166_1': 'PH', 'name': 'Philippines'}]</td>\n",
       "      <td>1994-09-09</td>\n",
       "      <td>0.0</td>\n",
       "      <td>100.0</td>\n",
       "      <td>[{'iso_639_1': 'tl', 'name': 'Tagolog'}]</td>\n",
       "      <td>Midnight Dancers</td>\n",
       "      <td>1994</td>\n",
       "      <td>0.000000</td>\n",
       "      <td>1.0</td>\n",
       "      <td>7.0</td>\n",
       "      <td>False</td>\n",
       "    </tr>\n",
       "    <tr>\n",
       "      <th>4940</th>\n",
       "      <td>NaN</td>\n",
       "      <td>344.0</td>\n",
       "      <td>50819</td>\n",
       "      <td>en</td>\n",
       "      <td>[{'iso_3166_1': 'US', 'name': 'United States o...</td>\n",
       "      <td>2001-09-29</td>\n",
       "      <td>4.0</td>\n",
       "      <td>104.0</td>\n",
       "      <td>[{'iso_639_1': 'en', 'name': 'English'}, {'iso...</td>\n",
       "      <td>American Adobo</td>\n",
       "      <td>2001</td>\n",
       "      <td>0.011628</td>\n",
       "      <td>3.0</td>\n",
       "      <td>5.3</td>\n",
       "      <td>False</td>\n",
       "    </tr>\n",
       "    <tr>\n",
       "      <th>6690</th>\n",
       "      <td>NaN</td>\n",
       "      <td>1000000.0</td>\n",
       "      <td>38135</td>\n",
       "      <td>en</td>\n",
       "      <td>[{'iso_3166_1': 'Unknown', 'name': 'Unknown'}]</td>\n",
       "      <td>2000-05-18</td>\n",
       "      <td>0.0</td>\n",
       "      <td>88.0</td>\n",
       "      <td>[{'iso_639_1': 'en', 'name': 'English'}, {'iso...</td>\n",
       "      <td>The Debut</td>\n",
       "      <td>2000</td>\n",
       "      <td>0.000000</td>\n",
       "      <td>4.0</td>\n",
       "      <td>5.3</td>\n",
       "      <td>False</td>\n",
       "    </tr>\n",
       "    <tr>\n",
       "      <th>8518</th>\n",
       "      <td>NaN</td>\n",
       "      <td>0.0</td>\n",
       "      <td>19742</td>\n",
       "      <td>ja</td>\n",
       "      <td>[{'iso_3166_1': 'JP', 'name': 'Japan'}]</td>\n",
       "      <td>1956-12-26</td>\n",
       "      <td>0.0</td>\n",
       "      <td>82.0</td>\n",
       "      <td>[{'iso_639_1': 'ja', 'name': '日本語'}, {'iso_639...</td>\n",
       "      <td>Rodan</td>\n",
       "      <td>1956</td>\n",
       "      <td>0.000000</td>\n",
       "      <td>22.0</td>\n",
       "      <td>5.7</td>\n",
       "      <td>False</td>\n",
       "    </tr>\n",
       "  </tbody>\n",
       "</table>\n",
       "</div>"
      ],
      "text/plain": [
       "     collection_id     budget      id original_language  \\\n",
       "297            NaN        0.0   30304                en   \n",
       "772            NaN        0.0  183955                en   \n",
       "4940           NaN      344.0   50819                en   \n",
       "6690           NaN  1000000.0   38135                en   \n",
       "8518           NaN        0.0   19742                ja   \n",
       "\n",
       "                                   production_countries release_date  revenue  \\\n",
       "297   [{'iso_3166_1': 'JP', 'name': 'Japan'}, {'iso_...   1995-05-05      0.0   \n",
       "772       [{'iso_3166_1': 'PH', 'name': 'Philippines'}]   1994-09-09      0.0   \n",
       "4940  [{'iso_3166_1': 'US', 'name': 'United States o...   2001-09-29      4.0   \n",
       "6690     [{'iso_3166_1': 'Unknown', 'name': 'Unknown'}]   2000-05-18      0.0   \n",
       "8518            [{'iso_3166_1': 'JP', 'name': 'Japan'}]   1956-12-26      0.0   \n",
       "\n",
       "      runtime                                   spoken_languages  \\\n",
       "297      94.0  [{'iso_639_1': 'tl', 'name': 'Tagolog'}, {'iso...   \n",
       "772     100.0           [{'iso_639_1': 'tl', 'name': 'Tagolog'}]   \n",
       "4940    104.0  [{'iso_639_1': 'en', 'name': 'English'}, {'iso...   \n",
       "6690     88.0  [{'iso_639_1': 'en', 'name': 'English'}, {'iso...   \n",
       "8518     82.0  [{'iso_639_1': 'ja', 'name': '日本語'}, {'iso_639...   \n",
       "\n",
       "                 title  release_year  return_on_investment  vote_count  \\\n",
       "297      Picture Bride          1995              0.000000         5.0   \n",
       "772   Midnight Dancers          1994              0.000000         1.0   \n",
       "4940    American Adobo          2001              0.011628         3.0   \n",
       "6690         The Debut          2000              0.000000         4.0   \n",
       "8518             Rodan          1956              0.000000        22.0   \n",
       "\n",
       "      vote_average  bellongs_to_collection  \n",
       "297            7.4                   False  \n",
       "772            7.0                   False  \n",
       "4940           5.3                   False  \n",
       "6690           5.3                   False  \n",
       "8518           5.7                   False  "
      ]
     },
     "execution_count": 31,
     "metadata": {},
     "output_type": "execute_result"
    }
   ],
   "source": [
    "# Lets check the result..\n",
    "movies_df[tl_language_mask].head()"
   ]
  },
  {
   "cell_type": "code",
   "execution_count": 64,
   "metadata": {},
   "outputs": [
    {
     "data": {
      "text/html": [
       "<div>\n",
       "<style scoped>\n",
       "    .dataframe tbody tr th:only-of-type {\n",
       "        vertical-align: middle;\n",
       "    }\n",
       "\n",
       "    .dataframe tbody tr th {\n",
       "        vertical-align: top;\n",
       "    }\n",
       "\n",
       "    .dataframe thead th {\n",
       "        text-align: right;\n",
       "    }\n",
       "</style>\n",
       "<table border=\"1\" class=\"dataframe\">\n",
       "  <thead>\n",
       "    <tr style=\"text-align: right;\">\n",
       "      <th></th>\n",
       "      <th>collection_id</th>\n",
       "      <th>budget</th>\n",
       "      <th>id</th>\n",
       "      <th>original_language</th>\n",
       "      <th>production_countries</th>\n",
       "      <th>release_date</th>\n",
       "      <th>revenue</th>\n",
       "      <th>runtime</th>\n",
       "      <th>spoken_languages</th>\n",
       "      <th>title</th>\n",
       "      <th>release_year</th>\n",
       "      <th>return_on_investment</th>\n",
       "      <th>vote_count</th>\n",
       "      <th>vote_average</th>\n",
       "      <th>bellongs_to_collection</th>\n",
       "    </tr>\n",
       "  </thead>\n",
       "  <tbody>\n",
       "    <tr>\n",
       "      <th>0</th>\n",
       "      <td>10194</td>\n",
       "      <td>30000000.0</td>\n",
       "      <td>862</td>\n",
       "      <td>en</td>\n",
       "      <td>[{'iso_3166_1': 'US', 'name': 'United States o...</td>\n",
       "      <td>1995-10-30</td>\n",
       "      <td>373554033.0</td>\n",
       "      <td>81.0</td>\n",
       "      <td>[{'iso_639_1': 'en', 'name': 'English'}]</td>\n",
       "      <td>Toy Story</td>\n",
       "      <td>1995</td>\n",
       "      <td>12.451801</td>\n",
       "      <td>5415.0</td>\n",
       "      <td>7.7</td>\n",
       "      <td>True</td>\n",
       "    </tr>\n",
       "    <tr>\n",
       "      <th>1</th>\n",
       "      <td>NaN</td>\n",
       "      <td>65000000.0</td>\n",
       "      <td>8844</td>\n",
       "      <td>en</td>\n",
       "      <td>[{'iso_3166_1': 'US', 'name': 'United States o...</td>\n",
       "      <td>1995-12-15</td>\n",
       "      <td>262797249.0</td>\n",
       "      <td>104.0</td>\n",
       "      <td>[{'iso_639_1': 'en', 'name': 'English'}, {'iso...</td>\n",
       "      <td>Jumanji</td>\n",
       "      <td>1995</td>\n",
       "      <td>4.043035</td>\n",
       "      <td>2413.0</td>\n",
       "      <td>6.9</td>\n",
       "      <td>False</td>\n",
       "    </tr>\n",
       "    <tr>\n",
       "      <th>2</th>\n",
       "      <td>119050</td>\n",
       "      <td>0.0</td>\n",
       "      <td>15602</td>\n",
       "      <td>en</td>\n",
       "      <td>[{'iso_3166_1': 'US', 'name': 'United States o...</td>\n",
       "      <td>1995-12-22</td>\n",
       "      <td>0.0</td>\n",
       "      <td>101.0</td>\n",
       "      <td>[{'iso_639_1': 'en', 'name': 'English'}]</td>\n",
       "      <td>Grumpier Old Men</td>\n",
       "      <td>1995</td>\n",
       "      <td>0.000000</td>\n",
       "      <td>92.0</td>\n",
       "      <td>6.5</td>\n",
       "      <td>True</td>\n",
       "    </tr>\n",
       "    <tr>\n",
       "      <th>3</th>\n",
       "      <td>NaN</td>\n",
       "      <td>16000000.0</td>\n",
       "      <td>31357</td>\n",
       "      <td>en</td>\n",
       "      <td>[{'iso_3166_1': 'US', 'name': 'United States o...</td>\n",
       "      <td>1995-12-22</td>\n",
       "      <td>81452156.0</td>\n",
       "      <td>127.0</td>\n",
       "      <td>[{'iso_639_1': 'en', 'name': 'English'}]</td>\n",
       "      <td>Waiting to Exhale</td>\n",
       "      <td>1995</td>\n",
       "      <td>5.090760</td>\n",
       "      <td>34.0</td>\n",
       "      <td>6.1</td>\n",
       "      <td>False</td>\n",
       "    </tr>\n",
       "    <tr>\n",
       "      <th>4</th>\n",
       "      <td>96871</td>\n",
       "      <td>0.0</td>\n",
       "      <td>11862</td>\n",
       "      <td>en</td>\n",
       "      <td>[{'iso_3166_1': 'US', 'name': 'United States o...</td>\n",
       "      <td>1995-02-10</td>\n",
       "      <td>76578911.0</td>\n",
       "      <td>106.0</td>\n",
       "      <td>[{'iso_639_1': 'en', 'name': 'English'}]</td>\n",
       "      <td>Father of the Bride Part II</td>\n",
       "      <td>1995</td>\n",
       "      <td>0.000000</td>\n",
       "      <td>173.0</td>\n",
       "      <td>5.7</td>\n",
       "      <td>True</td>\n",
       "    </tr>\n",
       "  </tbody>\n",
       "</table>\n",
       "</div>"
      ],
      "text/plain": [
       "  collection_id      budget     id original_language  \\\n",
       "0         10194  30000000.0    862                en   \n",
       "1           NaN  65000000.0   8844                en   \n",
       "2        119050         0.0  15602                en   \n",
       "3           NaN  16000000.0  31357                en   \n",
       "4         96871         0.0  11862                en   \n",
       "\n",
       "                                production_countries release_date  \\\n",
       "0  [{'iso_3166_1': 'US', 'name': 'United States o...   1995-10-30   \n",
       "1  [{'iso_3166_1': 'US', 'name': 'United States o...   1995-12-15   \n",
       "2  [{'iso_3166_1': 'US', 'name': 'United States o...   1995-12-22   \n",
       "3  [{'iso_3166_1': 'US', 'name': 'United States o...   1995-12-22   \n",
       "4  [{'iso_3166_1': 'US', 'name': 'United States o...   1995-02-10   \n",
       "\n",
       "       revenue  runtime                                   spoken_languages  \\\n",
       "0  373554033.0     81.0           [{'iso_639_1': 'en', 'name': 'English'}]   \n",
       "1  262797249.0    104.0  [{'iso_639_1': 'en', 'name': 'English'}, {'iso...   \n",
       "2          0.0    101.0           [{'iso_639_1': 'en', 'name': 'English'}]   \n",
       "3   81452156.0    127.0           [{'iso_639_1': 'en', 'name': 'English'}]   \n",
       "4   76578911.0    106.0           [{'iso_639_1': 'en', 'name': 'English'}]   \n",
       "\n",
       "                         title  release_year  return_on_investment  \\\n",
       "0                    Toy Story          1995             12.451801   \n",
       "1                      Jumanji          1995              4.043035   \n",
       "2             Grumpier Old Men          1995              0.000000   \n",
       "3            Waiting to Exhale          1995              5.090760   \n",
       "4  Father of the Bride Part II          1995              0.000000   \n",
       "\n",
       "   vote_count  vote_average  bellongs_to_collection  \n",
       "0      5415.0           7.7                    True  \n",
       "1      2413.0           6.9                   False  \n",
       "2        92.0           6.5                    True  \n",
       "3        34.0           6.1                   False  \n",
       "4       173.0           5.7                    True  "
      ]
     },
     "execution_count": 64,
     "metadata": {},
     "output_type": "execute_result"
    }
   ],
   "source": [
    "# And let's check the final output.. great, it seems we have already impute Tangolog correctly\n",
    "movies_df.head()"
   ]
  },
  {
   "cell_type": "markdown",
   "metadata": {},
   "source": [
    "but... this only makes me think that probably the \"tl\" iso 639 a code may not be the only one.. let's check if there may be other name in blank"
   ]
  },
  {
   "cell_type": "code",
   "execution_count": 27,
   "metadata": {},
   "outputs": [
    {
     "data": {
      "text/plain": [
       "424"
      ]
     },
     "execution_count": 27,
     "metadata": {},
     "output_type": "execute_result"
    }
   ],
   "source": [
    "movies_df[\"spoken_languages\"].apply(lambda languages: \"\" in (language[\"name\"] for language in languages)).sum() "
   ]
  },
  {
   "cell_type": "markdown",
   "metadata": {},
   "source": [
    "Yep, it is.. and let's see what languages does not have name..\n",
    "\n",
    "The pandas chaining bellow makes this:\n",
    "\n",
    "Filter all rows whose field spoken_languages avualutes an empty string (\"\") in the generator of each language object key name.\n",
    "\n",
    "Then, from the list of languages of each row, give me only the iso 639 1 code whose name is \"\". That list give me the first element, then give me only unique values"
   ]
  },
  {
   "cell_type": "code",
   "execution_count": 63,
   "metadata": {},
   "outputs": [
    {
     "data": {
      "text/plain": [
       "array(['gd', 'mn', 'mk', 'kw', 'nv', 'mi', 'yi', 'ne', 'km', 'iu', 'bo',\n",
       "       'ty', 'si', 'as', 'sh', 'gn', 'lo', 'xh', 'cr', 'ku', 'hy', 'oc',\n",
       "       'to', 'ce', 'qu', 'am', 'tg', 'tt', 'se', 'ml', 'co', 'dz', 'ht',\n",
       "       'ln', 'my', 'sa', 'fy', 'tk', 'ny', 'sc', 'gu', 'mr', 'ug', 'ay',\n",
       "       'st', 'jv', 'br', 'sg', 'lb', 'ab', 'sm', 'ki', 'tn', 'fo', 'sn',\n",
       "       'bi', 'ig', 'mh'], dtype=object)"
      ]
     },
     "execution_count": 63,
     "metadata": {},
     "output_type": "execute_result"
    }
   ],
   "source": [
    "(movies_df.loc[movies_df[\"spoken_languages\"].apply(lambda languages: \"\" in (language[\"name\"] for language in languages)), \"spoken_languages\"]\n",
    " .apply(lambda languages: [language[\"iso_639_1\"] for language in languages if language[\"name\"] == \"\"][0])).unique()"
   ]
  },
  {
   "cell_type": "code",
   "execution_count": 42,
   "metadata": {},
   "outputs": [
    {
     "data": {
      "text/plain": [
       "[{'iso_639_1': 'en', 'name': 'English'},\n",
       " {'iso_639_1': 'gu', 'name': ''},\n",
       " {'iso_639_1': 'hi', 'name': 'हिन्दी'},\n",
       " {'iso_639_1': 'mr', 'name': ''}]"
      ]
     },
     "execution_count": 42,
     "metadata": {},
     "output_type": "execute_result"
    }
   ],
   "source": [
    "movies_df[movies_df[\"original_language\"] == \"mr\"][\"spoken_languages\"][29738]"
   ]
  },
  {
   "cell_type": "code",
   "execution_count": 39,
   "metadata": {},
   "outputs": [
    {
     "data": {
      "text/plain": [
       "[{'iso_639_1': 'en', 'name': 'English'}, {'iso_639_1': 'mk', 'name': ''}]"
      ]
     },
     "execution_count": 39,
     "metadata": {},
     "output_type": "execute_result"
    }
   ],
   "source": [
    "movies_df[movies_df[\"original_language\"] == \"mk\"][\"spoken_languages\"][2966]"
   ]
  },
  {
   "cell_type": "code",
   "execution_count": 46,
   "metadata": {},
   "outputs": [
    {
     "data": {
      "text/plain": [
       "0                 [{'iso_639_1': 'en', 'name': 'English'}]\n",
       "1        [{'iso_639_1': 'en', 'name': 'English'}, {'iso...\n",
       "2                 [{'iso_639_1': 'en', 'name': 'English'}]\n",
       "3                 [{'iso_639_1': 'en', 'name': 'English'}]\n",
       "4                 [{'iso_639_1': 'en', 'name': 'English'}]\n",
       "                               ...                        \n",
       "45433             [{'iso_639_1': 'en', 'name': 'English'}]\n",
       "45434             [{'iso_639_1': 'tl', 'name': 'Tagolog'}]\n",
       "45435             [{'iso_639_1': 'en', 'name': 'English'}]\n",
       "45436        [{'iso_639_1': 'Unknown', 'name': 'Unknown'}]\n",
       "45437             [{'iso_639_1': 'en', 'name': 'English'}]\n",
       "Name: spoken_languages, Length: 45181, dtype: object"
      ]
     },
     "execution_count": 46,
     "metadata": {},
     "output_type": "execute_result"
    }
   ],
   "source": [
    "(movies_df[\"spoken_languages\"]\n",
    "                            .apply(lambda languages: [\n",
    "                                {\"iso_639_1\": language[\"iso_639_1\"], \"name\" : \"Gujarati\" if language[\"iso_639_1\"] == \"gu\" else language[\"name\"]} \n",
    "                                for language in languages]))"
   ]
  }
 ],
 "metadata": {
  "kernelspec": {
   "display_name": "proyecto_1",
   "language": "python",
   "name": "python3"
  },
  "language_info": {
   "codemirror_mode": {
    "name": "ipython",
    "version": 3
   },
   "file_extension": ".py",
   "mimetype": "text/x-python",
   "name": "python",
   "nbconvert_exporter": "python",
   "pygments_lexer": "ipython3",
   "version": "3.10.6"
  },
  "orig_nbformat": 4
 },
 "nbformat": 4,
 "nbformat_minor": 2
}
